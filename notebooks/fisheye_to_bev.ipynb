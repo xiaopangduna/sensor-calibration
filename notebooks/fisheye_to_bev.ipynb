{
 "cells": [
  {
   "cell_type": "markdown",
   "id": "62dcc9ec",
   "metadata": {},
   "source": [
    "# Pinhole image to BEV \n",
    "![针孔图像](../data/pinhole.jpg)\n",
    "\n",
    "针孔图像"
   ]
  },
  {
   "cell_type": "code",
   "execution_count": null,
   "id": "940adf8d",
   "metadata": {},
   "outputs": [
    {
     "name": "stdout",
     "output_type": "stream",
     "text": [
      "[[-1.59985900e+00 -9.26234160e-01  7.04190571e+02]\n",
      " [-4.22298082e-02 -3.96960197e+00  1.15084673e+03]\n",
      " [-1.08988746e-04 -8.57632393e-03  1.00000000e+00]]\n",
      "[[54]\n",
      " [74]\n",
      " [ 1]]\n",
      "[[-177.38844035]\n",
      " [-180.00173956]\n",
      " [  -0.56308657]]\n",
      "[[315.02871795]\n",
      " [319.66974359]]\n"
     ]
    },
    {
     "data": {
      "text/plain": [
       "True"
      ]
     },
     "execution_count": 32,
     "metadata": {},
     "output_type": "execute_result"
    }
   ],
   "source": [
    "import numpy as np\n",
    "import cv2\n",
    "from scipy.spatial.transform import Rotation as R\n",
    "\n",
    "# 原图像尺寸\n",
    "img = cv2.imread(\"../data/pinhole.jpg\")\n",
    "\n",
    "# 手动选择地面上的 4 点（图像坐标）\n",
    "src_points = np.float32([[274, 287], [462, 285], [528, 417], [197, 420]])\n",
    "\n",
    "# 对应 BEV 图上的 4 点\n",
    "dst_points = np.float32([[0, 0], [200, 0], [200, 200], [0, 200]])\n",
    "\n",
    "# 计算透视变换矩阵\n",
    "M = cv2.getPerspectiveTransform(src_points, dst_points)\n",
    "print(M)\n",
    "p_bev = np.array([[54], [74], [1]])\n",
    "p_cam = np.linalg.inv(M) @ p_bev\n",
    "print(p_bev)\n",
    "print(p_cam)\n",
    "p_cam = p_cam[:2] / p_cam[2]\n",
    "print(p_cam)\n",
    "# M 描述从到原图到bev图的映射关系\n",
    "# 变换图像\n",
    "bev_image = cv2.warpPerspective(img, M, (200, 200))\n",
    "cv2.imwrite(\"../data/pinhole_bev.jpg\",bev_image)\n",
    "\n"
   ]
  },
  {
   "cell_type": "markdown",
   "id": "0d4c524b",
   "metadata": {},
   "source": [
    "![bev图](../data/pinhole_bev.jpg)"
   ]
  },
  {
   "cell_type": "code",
   "execution_count": null,
   "id": "406a3e54",
   "metadata": {},
   "outputs": [
    {
     "name": "stdout",
     "output_type": "stream",
     "text": [
      "[[571.           0.         335.37698364]\n",
      " [  0.         571.         235.78642273]\n",
      " [  0.           0.           1.        ]]\n",
      "[[ 0.00892549 -0.99987765 -0.01284575  0.04974401]\n",
      " [-0.31300375  0.00940711 -0.9497053   1.00559546]\n",
      " [ 0.94970995  0.01249735  0.31288149 -0.24506292]\n",
      " [ 0.          0.          0.          1.        ]]\n",
      "[[100.   0. 200.]\n",
      " [  0. 100. 200.]\n",
      " [  0.   0.   1.]]\n",
      "[[ 2.22044605e-16 -1.00000000e+00 -1.22464680e-16]\n",
      " [-1.00000000e+00 -2.22044605e-16 -2.46519033e-32]\n",
      " [ 0.00000000e+00  1.22464680e-16 -1.00000000e+00]]\n",
      "400\n"
     ]
    }
   ],
   "source": [
    "\n",
    "\n",
    "# === Step 1: 图像与内参 ===\n",
    "img = cv2.imread(\"../data/pinhole.jpg\")\n",
    "K = np.array([\n",
    "    [571, 0, 335.3769836425781],\n",
    "    [0, 571, 235.7864227294922],\n",
    "    [0,   0,   1]\n",
    "])\n",
    "\n",
    "# === Step 2: BEV 图配置 ===\n",
    "bev_range = [(0, 4), (-2, 2)]  # X: 前方 0~4m, Y: 左右 -2~2m\n",
    "resolution = 0.01  # 每像素 1cm\n",
    "\n",
    "(Xmin, Xmax), (Ymin, Ymax) = bev_range\n",
    "W = int((Xmax - Xmin) / resolution)\n",
    "H = int((Ymax - Ymin) / resolution)\n",
    "\n",
    "# 内参构建（BEV 虚拟相机）\n",
    "fx = fy = 1.0 / resolution\n",
    "cx = W / 2\n",
    "cy = H / 2\n",
    "K_bev = np.array([\n",
    "    [fx, 0, cx],\n",
    "    [0, fy, cy],\n",
    "    [0,  0,  1]\n",
    "])\n",
    "\n",
    "# === Step 3: 像素坐标网格 → BEV 相机坐标 ===\n",
    "u, v = np.meshgrid(np.arange(W), np.arange(H))  # 像素网格\n",
    "ones = np.ones_like(u)\n",
    "pix_bev = np.stack([u, v, ones], axis=-1).reshape(-1, 3).T  # shape: (3, N)\n",
    "coords_bev = np.linalg.inv(K_bev) @ pix_bev  # BEV相机坐标\n",
    "coords_bev[2, :] = 0.0  # BEV 平面上，Z=0\n",
    "\n",
    "# === Step 4: BEV 相机坐标 → 世界坐标 ===\n",
    "angles_deg = [-90, 0, 180]  # ZYX: yaw, pitch, roll（内旋）\n",
    "angles_rad = np.radians(angles_deg)\n",
    "R_bev = R.from_euler('xyz', [angles_rad[2], angles_rad[1], angles_rad[0]])\n",
    "R_bev_matrix = R_bev.as_matrix()\n",
    "t_bev = np.array([2, 0, 0])  # BEV 相机在世界坐标下的位置\n",
    "\n",
    "\n",
    "Pw = R_bev_matrix @ coords_bev + t_bev.reshape(3, 1)  # 世界坐标系点\n",
    "\n",
    "# === Step 5: 世界坐标 → 相机坐标 ===\n",
    "RT = np.array([\n",
    "    [0.00892549, -0.99987765, -0.01284575,  0.04974401],\n",
    "    [-0.31300375, 0.00940711, -0.94970530,  1.00559546],\n",
    "    [0.94970995, 0.01249735,  0.31288149, -0.24506292],\n",
    "    [0, 0, 0, 1]\n",
    "])\n",
    "R_cam = RT[:3, :3]\n",
    "t_cam = RT[:3, 3]\n",
    "Pc = R_cam @ Pw + t_cam.reshape(3, 1)\n",
    "\n",
    "# === Step 6: 相机坐标 → 图像像素坐标 ===\n",
    "Xc, Yc, Zc = Pc\n",
    "valid = Zc > 0\n",
    "x = Xc / Zc\n",
    "y = Yc / Zc\n",
    "u_img = K[0, 0] * x + K[0, 2]\n",
    "v_img = K[1, 1] * y + K[1, 2]\n",
    "\n",
    "# === Step 7: 构建 remap 映射表 ===\n",
    "map_x = np.full((H * W,), -1, dtype=np.float32)\n",
    "map_y = np.full((H * W,), -1, dtype=np.float32)\n",
    "map_x[valid] = u_img[valid]\n",
    "map_y[valid] = v_img[valid]\n",
    "map_x = map_x.reshape(H, W)\n",
    "map_y = map_y.reshape(H, W)\n",
    "mask = valid.reshape(H, W)\n",
    "\n",
    "# === Step 8: 应用映射生成 BEV 图像 ===\n",
    "bev_img = cv2.remap(img, map_x, map_y, interpolation=cv2.INTER_LINEAR)\n",
    "cv2.imwrite(\"../data/pinhole_bev_remap.jpg\", bev_img)\n",
    "\n",
    "print(K)  \n",
    "print(RT)\n",
    "print(K_bev)\n",
    "print(R_bev_matrix)\n",
    "print(W)"
   ]
  },
  {
   "cell_type": "code",
   "execution_count": 7,
   "id": "167718c9",
   "metadata": {},
   "outputs": [],
   "source": [
    "def generate_bev_remap_map(K_cam, RT_cam, K_bev, RT_bev, bev_size):\n",
    "    H, W = bev_size\n",
    "    u, v = np.meshgrid(np.arange(W), np.arange(H))  # 像素网格\n",
    "    ones = np.ones_like(u)\n",
    "    pix_bev = np.stack([u, v, ones], axis=-1).reshape(-1, 3).T  # shape: (3, N)\n",
    "    coords_bev = np.linalg.inv(K_bev) @ pix_bev  # BEV相机坐标\n",
    "    # print(coords_bev[2, :])\n",
    "    coords_bev[2, :] = 1.0  # BEV 平面上，Z=0\n",
    "    R_bev = RT_bev[:3, :3]\n",
    "    t_bev = RT_bev[:3, 3]\n",
    "    Pw = R_bev @ coords_bev + t_bev.reshape(3, 1)  # 世界坐标系点\n",
    "    R_cam = RT_cam[:3, :3]\n",
    "    t_cam = RT_cam[:3, 3]\n",
    "    Pc = R_cam @ Pw + t_cam.reshape(3, 1)\n",
    "    # 世界坐标系点做像素坐标系转换\n",
    "    Xc, Yc, Zc = Pc\n",
    "    valid = Zc > 0\n",
    "    x = Xc / Zc\n",
    "    y = Yc / Zc\n",
    "    # Pc = RT_cam[:3, :3] @ Pw + RT_cam[:3, 3:4]\n",
    "    # Zc = np.clip(Pc[2], 1e-3, None)  # 防止除0\n",
    "    # x = Pc[0] / Zc\n",
    "    # y = Pc[1] / Zc\n",
    "    u_img = K_cam[0, 0] * x + K_cam[0, 2]\n",
    "    v_img = K_cam[1, 1] * y + K_cam[1, 2]\n",
    "    map_x = np.full((H * W,), -1, dtype=np.float32)\n",
    "    map_y = np.full((H * W,), -1, dtype=np.float32)\n",
    "    map_x[valid] = u_img[valid]\n",
    "    map_y[valid] = v_img[valid]\n",
    "    map_x = map_x.reshape(H, W)\n",
    "    map_y = map_y.reshape(H, W)\n",
    "    mask = valid.reshape(H, W)\n",
    "    return map_x, map_y, mask\n",
    "    "
   ]
  },
  {
   "cell_type": "code",
   "execution_count": 18,
   "id": "f8fcbd5d",
   "metadata": {},
   "outputs": [
    {
     "name": "stdout",
     "output_type": "stream",
     "text": [
      "[[571.     0.   335.38]\n",
      " [  0.   571.   235.79]\n",
      " [  0.     0.     1.  ]]\n",
      "[[ 0.0089 -0.9999 -0.0128  0.05  ]\n",
      " [-0.313   0.0094 -0.9497  1.01  ]\n",
      " [ 0.9497  0.0125  0.3129 -0.245 ]\n",
      " [ 0.      0.      0.      1.    ]]\n",
      "[[100.   0. 200.]\n",
      " [  0. 100. 200.]\n",
      " [  0.   0.   1.]]\n",
      "[[ 2.22044605e-16 -1.00000000e+00 -1.22464680e-16  2.00000000e+00]\n",
      " [-1.00000000e+00 -2.22044605e-16 -2.46519033e-32  0.00000000e+00]\n",
      " [ 0.00000000e+00  1.22464680e-16 -1.00000000e+00  1.00000000e+00]\n",
      " [ 0.00000000e+00  0.00000000e+00  0.00000000e+00  1.00000000e+00]]\n",
      "(400, 400)\n"
     ]
    },
    {
     "data": {
      "text/plain": [
       "True"
      ]
     },
     "execution_count": 18,
     "metadata": {},
     "output_type": "execute_result"
    }
   ],
   "source": [
    "\n",
    "# 加载图像\n",
    "img = cv2.imread(\"../data/pinhole.jpg\")\n",
    "\n",
    "# 相机内参（假设）\n",
    "cam_K = np.array([[571, 0, 335.38],\n",
    "                  [0, 571, 235.79],\n",
    "                  [0, 0, 1]])\n",
    "\n",
    "# 相机外参（世界到相机）\n",
    "RT_cam_world = np.array([\n",
    "    [0.0089, -0.9999, -0.0128, 0.05],\n",
    "    [-0.3130, 0.0094, -0.9497, 1.01],\n",
    "    [0.9497, 0.0125, 0.3129, -0.245],\n",
    "    [0, 0, 0, 1]\n",
    "])\n",
    "\n",
    "# BEV 图参数\n",
    "bev_range = [(0, 4), (-2, 2)]  # X, Y 世界坐标范围\n",
    "resolution = 0.01  # 米/像素\n",
    "W = int((bev_range[0][1] - bev_range[0][0]) / resolution)\n",
    "H = int((bev_range[1][1] - bev_range[1][0]) / resolution)\n",
    "bev_size = (H, W)\n",
    "\n",
    "# BEV 内参：固定缩放 + 中心平移\n",
    "bev_K = np.array([[1.0 / resolution, 0, W // 2],\n",
    "                  [0, 1.0 / resolution, H // 2],\n",
    "                  [0, 0, 1]])\n",
    "\n",
    "# BEV 外参（BEV到世界）\n",
    "# 内旋 ZYX: z=-90, y=0, x=180（车前向上）\n",
    "angles_deg = [-90, 0, 180]\n",
    "angles_rad = np.radians(angles_deg)\n",
    "R_bev = R.from_euler('xyz', [angles_rad[2], angles_rad[1], angles_rad[0]])\n",
    "t_bev = np.array([2.0, 0.0, 1.0])  # 平移 2 米\n",
    "R_bev_matrix = R_bev.as_matrix()\n",
    "RT_world_bev = np.eye(4)\n",
    "RT_world_bev[:3, :3] = R_bev_matrix\n",
    "RT_world_bev[:3, 3] = t_bev\n",
    "\n",
    "# 生成映射表\n",
    "map_x, map_y, mask = generate_bev_remap_map(cam_K, RT_cam_world, bev_K, RT_world_bev, bev_size)\n",
    "print(cam_K)  \n",
    "print(RT_cam_world)\n",
    "print(bev_K)\n",
    "print(RT_world_bev)\n",
    "print(bev_size)\n",
    "# 应用映射\n",
    "bev_img = cv2.remap(img, map_x, map_y, interpolation=cv2.INTER_LINEAR)\n",
    "cv2.imwrite(\"../data/pinhole_bev_remap.jpg\", bev_img)\n"
   ]
  },
  {
   "cell_type": "markdown",
   "id": "910d98dd",
   "metadata": {},
   "source": [
    "![bev图](../data/pinhole_bev_remap.jpg)"
   ]
  },
  {
   "cell_type": "code",
   "execution_count": null,
   "id": "3b587fe7",
   "metadata": {},
   "outputs": [
    {
     "name": "stdout",
     "output_type": "stream",
     "text": [
      "[[ 2.22044605e-16 -1.00000000e+00 -1.22464680e-16  2.00000000e+00]\n",
      " [-1.00000000e+00 -2.22044605e-16 -2.46519033e-32  0.00000000e+00]\n",
      " [ 0.00000000e+00  1.22464680e-16 -1.00000000e+00  1.00000000e+00]\n",
      " [ 0.00000000e+00  0.00000000e+00  0.00000000e+00  1.00000000e+00]]\n",
      "BEV坐标系点: [1. 0. 1.]\n",
      "转换到世界坐标系: [ 2. -1.  0.]\n",
      "[[300.]\n",
      " [200.]\n",
      " [  1.]]\n",
      "[[100.   0. 200.]\n",
      " [  0. 100. 200.]\n",
      " [  0.   0.   1.]]\n",
      "[[300.]\n",
      " [200.]\n",
      " [  1.]]\n",
      "BEV相机坐标系点: [1. 0. 1.]\n",
      "投影到BEV像素坐标: [300. 200.]\n"
     ]
    }
   ],
   "source": [
    "\n",
    "# BEV相机坐标系中的点（举例点在Z=0平面）\n",
    "p_bev = np.array([1.0, 0.0, 1.0]).reshape(3,1)  # BEV坐标系点\n",
    "\n",
    "# 转换到世界坐标系\n",
    "R_bev = RT_world_bev[:3, :3]\n",
    "t_bev = RT_world_bev[:3, 3].reshape(3, 1)\n",
    "p_world = R_bev @ p_bev + t_bev\n",
    "print(RT_world_bev)\n",
    "print(\"BEV坐标系点:\", p_bev.flatten())\n",
    "print(\"转换到世界坐标系:\", p_world.flatten())\n",
    "# 先将BEV相机坐标系点转换到像素坐标\n",
    "p_pix_homo = bev_K @ p_bev\n",
    "print(p_pix_homo)   \n",
    "p_pix = p_pix_homo[:2] / p_pix_homo[2]\n",
    "print(bev_K)\n",
    "print(p_pix_homo)   \n",
    "print(\"BEV相机坐标系点:\", p_bev.flatten())\n",
    "print(\"投影到BEV像素坐标:\", p_pix.flatten())\n",
    "\n"
   ]
  },
  {
   "cell_type": "code",
   "execution_count": null,
   "id": "a92e907d",
   "metadata": {},
   "outputs": [
    {
     "name": "stdout",
     "output_type": "stream",
     "text": [
      "[[200.]\n",
      " [100.]\n",
      " [  1.]]\n",
      "[[ 0.]\n",
      " [-1.]\n",
      " [ 1.]]\n",
      "[[ 3.00000000e+00]\n",
      " [ 2.22044605e-16]\n",
      " [-2.22044605e-16]]\n",
      "[[0.0767]\n",
      " [0.071 ]\n",
      " [2.6041]]\n",
      "[[917.158758]\n",
      " [654.561739]\n",
      " [  2.6041  ]]\n",
      "[[352.19797934]\n",
      " [251.35814254]]\n"
     ]
    }
   ],
   "source": [
    "\n",
    "p_pixel_bev = np.array([[200],[100],[1.0]])\n",
    "p_cam_bev = np.linalg.inv(bev_K) @ p_pixel_bev\n",
    "\n",
    "print(p_pixel_bev)\n",
    "print(p_cam_bev)\n",
    "\n",
    "# 转换到世界坐标系\n",
    "R_bev = RT_world_bev[:3, :3]\n",
    "t_bev = RT_world_bev[:3, 3].reshape(3, 1)\n",
    "p_cam_world = R_bev @ p_cam_bev +t_bev\n",
    "\n",
    "print(p_cam_world)\n",
    "R_cam = RT_cam_world[:3, :3]\n",
    "t_cam = RT_cam_world[:3, 3]\n",
    "p_cam = R_cam @ p_cam_world + t_cam.reshape(3, 1)\n",
    "print(p_cam)\n",
    "p_pixel_cam = cam_K @ p_cam\n",
    "print(p_pixel_cam)\n",
    "p_pixel_cam = p_pixel_cam[:2] / p_pixel_cam[2]\n",
    "print(p_pixel_cam)"
   ]
  },
  {
   "cell_type": "code",
   "execution_count": 12,
   "id": "4547cf69",
   "metadata": {},
   "outputs": [
    {
     "name": "stdout",
     "output_type": "stream",
     "text": [
      "映射到 BEV 像素坐标: [[200.]\n",
      " [100.]\n",
      " [  1.]]\n",
      "世界坐标 (X=3, Y=0): [[3.]\n",
      " [0.]\n",
      " [0.]]\n",
      "[[917.158758]\n",
      " [654.561739]\n",
      " [  2.6041  ]]\n",
      "[[352.19797934]\n",
      " [251.35814254]]\n",
      "[[917.158758]\n",
      " [654.561739]\n",
      " [  2.6041  ]]\n"
     ]
    }
   ],
   "source": [
    "H_bev = R_bev @ np.linalg.inv(bev_K)\n",
    "# # 3. 应用 H_bev：世界坐标 → 像素坐标（齐次）\n",
    "p_world = H_bev @ p_pixel_bev + t_bev\n",
    "# p_world = H_bev @ p_pixel_bev\n",
    "# p_world[2] = 1\n",
    "print(\"映射到 BEV 像素坐标:\", p_pixel_bev)\n",
    "print(\"世界坐标 (X=3, Y=0):\", p_world)\n",
    "R_cam = RT_cam_world[:3, :3]\n",
    "t_cam = RT_cam_world[:3, 3]\n",
    "H_cam = cam_K@R_cam  \n",
    "p_cam = H_cam@p_world +cam_K @ t_cam.reshape(3, 1)\n",
    "# p_cam = H_cam@p_world \n",
    "print(p_cam)\n",
    "p_pixel_cam = p_cam[:2] / p_cam[2]\n",
    "print(p_pixel_cam)\n",
    "\n",
    "p_cam = cam_K@R_cam@(R_bev @ np.linalg.inv(bev_K)@ p_pixel_bev + t_bev) + cam_K @ t_cam.reshape(3, 1)\n",
    "print(p_cam)\n"
   ]
  },
  {
   "cell_type": "code",
   "execution_count": 27,
   "id": "e8146725",
   "metadata": {},
   "outputs": [
    {
     "name": "stdout",
     "output_type": "stream",
     "text": [
      "[[0.0767]\n",
      " [0.071 ]\n",
      " [2.6041]\n",
      " [1.    ]]\n",
      "[[ 2.22044605e-16]\n",
      " [-1.00000000e+00]\n",
      " [ 1.00000000e+00]\n",
      " [ 1.00000000e+00]]\n",
      "[[ 2.28983499e-16]\n",
      " [-1.00000000e+00]\n",
      " [ 1.00000000e+00]\n",
      " [ 1.00000000e+00]]\n"
     ]
    }
   ],
   "source": [
    "# # 构造齐次点（原相机坐标系下）\n",
    "P_world = np.array([[3.0], [0.0], [0.0], [1]])  # 一个简单点 (1, 0, 0)\n",
    "P_camera = RT_cam_world@P_world\n",
    "P_bev = np.linalg.inv(RT_world_bev)@P_world\n",
    "print(P_camera)\n",
    "print(P_bev)\n",
    "RT_bev_cam = np.linalg.inv(RT_world_bev) @ np.linalg.inv(RT_cam_world)\n",
    "P_test = RT_bev_cam @ P_camera\n",
    "print(P_test)\n"
   ]
  },
  {
   "cell_type": "code",
   "execution_count": 34,
   "id": "b4688b4a",
   "metadata": {},
   "outputs": [
    {
     "name": "stdout",
     "output_type": "stream",
     "text": [
      "[[200.]\n",
      " [100.]\n",
      " [  1.]]\n",
      "[[ 0.]\n",
      " [-1.]\n",
      " [ 1.]]\n"
     ]
    }
   ],
   "source": [
    "p_pixel_bev = np.array([[200],[100],[1.0]])\n",
    "p_cam_bev = np.linalg.inv(bev_K) @ p_pixel_bev\n",
    "print(p_pixel_bev)\n",
    "print(p_cam_bev)\n"
   ]
  },
  {
   "cell_type": "code",
   "execution_count": 36,
   "id": "aabb9413",
   "metadata": {},
   "outputs": [
    {
     "name": "stdout",
     "output_type": "stream",
     "text": [
      "[[0.0767]\n",
      " [0.071 ]\n",
      " [2.6041]]\n"
     ]
    }
   ],
   "source": [
    "RT_cam_bev = np.linalg.inv(RT_bev_cam)\n",
    "R_cam = RT_cam_bev[:3, :3]\n",
    "t_cam = RT_cam_bev[:3, 3].reshape(3, 1)\n",
    "p_cam_cam = R_cam @ p_cam_bev + t_cam\n",
    "print(p_cam_cam)"
   ]
  },
  {
   "cell_type": "code",
   "execution_count": 39,
   "id": "f4d433c3",
   "metadata": {},
   "outputs": [
    {
     "name": "stdout",
     "output_type": "stream",
     "text": [
      "[[917.158758]\n",
      " [654.561739]\n",
      " [  2.6041  ]]\n",
      "[[917.158758]\n",
      " [654.561739]\n",
      " [  2.6041  ]]\n"
     ]
    }
   ],
   "source": [
    "p_pixel_cam = cam_K @ p_cam_cam\n",
    "print(p_pixel_cam)\n",
    "\n",
    "p_pixel_cam_test =cam_K@R_cam @np.linalg.inv(bev_K)@ p_pixel_bev + cam_K@t_cam\n",
    "print(p_pixel_cam_test)\n"
   ]
  },
  {
   "cell_type": "code",
   "execution_count": 52,
   "id": "47577d37",
   "metadata": {},
   "outputs": [
    {
     "name": "stdout",
     "output_type": "stream",
     "text": [
      "[[917.158758]\n",
      " [654.561739]\n",
      " [  2.6041  ]]\n",
      "[[352.19797934]\n",
      " [251.35814254]]\n"
     ]
    },
    {
     "data": {
      "text/plain": [
       "True"
      ]
     },
     "execution_count": 52,
     "metadata": {},
     "output_type": "execute_result"
    }
   ],
   "source": [
    "# 4. 平面参数\n",
    "n = np.array([[0], [0], [-1]])  # 地面法向量\n",
    "d = 1.0  # 地面与 BEV 相机距离（米）\n",
    "RT_cam_bev = np.linalg.inv(RT_bev_cam)\n",
    "R_cam = RT_cam_bev[:3, :3]\n",
    "t_cam = RT_cam_bev[:3, 3].reshape(3, 1)\n",
    "H = cam_K @ (R_cam - (t_cam @ n.T) / d) @ np.linalg.inv(bev_K)\n",
    "H_inv = np.linalg.inv(H)\n",
    "p_test = H@p_pixel_bev\n",
    "print(p_test)\n",
    "p_test = p_test[:2] / p_test[2]\n",
    "print(p_test)\n",
    "bev_image = cv2.warpPerspective(img, H_inv, (400, 400))\n",
    "cv2.imwrite(\"../data/pinhole_bev_homography.jpg\",bev_image)"
   ]
  },
  {
   "cell_type": "markdown",
   "id": "e12fb4bc",
   "metadata": {},
   "source": [
    "# fisheye to bev "
   ]
  }
 ],
 "metadata": {
  "kernelspec": {
   "display_name": "py312_sensor_calib",
   "language": "python",
   "name": "python3"
  },
  "language_info": {
   "codemirror_mode": {
    "name": "ipython",
    "version": 3
   },
   "file_extension": ".py",
   "mimetype": "text/x-python",
   "name": "python",
   "nbconvert_exporter": "python",
   "pygments_lexer": "ipython3",
   "version": "3.12.11"
  }
 },
 "nbformat": 4,
 "nbformat_minor": 5
}
