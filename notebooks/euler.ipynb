{
 "cells": [
  {
   "cell_type": "code",
   "execution_count": 1,
   "id": "de1246d7",
   "metadata": {},
   "outputs": [
    {
     "name": "stdout",
     "output_type": "stream",
     "text": [
      "是否一致： True\n",
      "手动构造 R：\n",
      " [[ 0.81379768 -0.46984631  0.34202014]\n",
      " [ 0.54383814  0.82317294 -0.16317591]\n",
      " [-0.20487413  0.31879578  0.92541658]]\n",
      "scipy R：\n",
      " [[ 0.81379768 -0.46984631  0.34202014]\n",
      " [ 0.54383814  0.82317294 -0.16317591]\n",
      " [-0.20487413  0.31879578  0.92541658]]\n"
     ]
    }
   ],
   "source": [
    "import numpy as np\n",
    "from scipy.spatial.transform import Rotation as R\n",
    "\n",
    "# === Step 1: 定义欧拉角 ===\n",
    "yaw, pitch, roll = 30, 20, 10  # 单位：度\n",
    "yaw, pitch, roll = np.radians([yaw, pitch, roll])\n",
    "\n",
    "# === Step 2: 手动构造每个轴的旋转矩阵 ===\n",
    "def rot_z(theta):\n",
    "    return np.array([\n",
    "        [np.cos(theta), -np.sin(theta), 0],\n",
    "        [np.sin(theta),  np.cos(theta), 0],\n",
    "        [0,              0,             1]\n",
    "    ])\n",
    "\n",
    "def rot_y(theta):\n",
    "    return np.array([\n",
    "        [np.cos(theta),  0, np.sin(theta)],\n",
    "        [0,              1, 0],\n",
    "        [-np.sin(theta), 0, np.cos(theta)]\n",
    "    ])\n",
    "\n",
    "def rot_x(theta):\n",
    "    return np.array([\n",
    "        [1, 0,              0],\n",
    "        [0, np.cos(theta), -np.sin(theta)],\n",
    "        [0, np.sin(theta),  np.cos(theta)]\n",
    "    ])\n",
    "\n",
    "# === Step 3: 按照内旋顺序组合 ===\n",
    "# 内旋：依次绕当前坐标系的 ZYX 轴 → 对应矩阵乘法 R = R_x * R_y * R_z（从右往左）\n",
    "R_manual = rot_x(roll) @ rot_y(pitch) @ rot_z(yaw)\n",
    "\n",
    "# === Step 4: 使用 scipy 验证内旋一致性 ===\n",
    "R_scipy = R.from_euler('zyx', [30, 20, 10], degrees=True).as_matrix()\n",
    "\n",
    "# === Step 5: 比较 ===\n",
    "print(\"是否一致：\", np.allclose(R_manual, R_scipy, atol=1e-8))\n",
    "print(\"手动构造 R：\\n\", R_manual)\n",
    "print(\"scipy R：\\n\", R_scipy)\n"
   ]
  }
 ],
 "metadata": {
  "kernelspec": {
   "display_name": "py312_sensor_calib",
   "language": "python",
   "name": "python3"
  },
  "language_info": {
   "codemirror_mode": {
    "name": "ipython",
    "version": 3
   },
   "file_extension": ".py",
   "mimetype": "text/x-python",
   "name": "python",
   "nbconvert_exporter": "python",
   "pygments_lexer": "ipython3",
   "version": "3.12.11"
  }
 },
 "nbformat": 4,
 "nbformat_minor": 5
}
