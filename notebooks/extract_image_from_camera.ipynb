{
 "cells": [
  {
   "cell_type": "code",
   "execution_count": null,
   "id": "f1d9ff6d",
   "metadata": {},
   "outputs": [],
   "source": []
  }
 ],
 "metadata": {
  "language_info": {
   "name": "python"
  }
 },
 "nbformat": 4,
 "nbformat_minor": 5
}
